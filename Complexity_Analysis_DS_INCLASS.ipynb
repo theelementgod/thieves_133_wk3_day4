{
 "cells": [
  {
   "cell_type": "markdown",
   "metadata": {},
   "source": [
    "# Time/Space Complexity - Intro to Data Structures (User Defined)\n",
    "\n",
    "### Topics to discuss today:\n",
    "\n",
    "<ul>\n",
    "    <li>Time and Space Complexity - What is it/How do we measure it</li>\n",
    "    <li>Asymptotic Analysis</li>\n",
    "    <li><strong>Data Structures</strong></li>\n",
    "    <li>Some of the popular sorting algorithms</li>\n",
    "</ul>\n",
    "\n",
    "### Data Structures to discuss:\n",
    "- Arrays\n",
    "- Stacks\n",
    "- Queues\n",
    "- Linked Lists\n",
    "    - Traversing A Linked List\n",
    "    - Finding a node in a linked list\n",
    "    - Adding to a linked list\n"
   ]
  },
  {
   "cell_type": "markdown",
   "metadata": {},
   "source": [
    "## Time and Space Complexity\n",
    "\n",
    "#### What is it?\n",
    "\n",
    "Time and space complexity is the measure of how much time a given action(function) will take to solve a problem. In the same fashion, we determine how much a given data structure will need in terms of memory allocation. A problem can have multiple solutions and finding the optimal solution for the problem needs to be analyzed in time and space.\n",
    "\n",
    "#### How do we measure Time and Space Complexity?\n",
    "\n",
    "In order to measure time and space complexity we use Asymptotic analysis. The reason for this is because we need a way to measure different algorithms (functions) based on the size of their inputs in a mathmatical way. For example, we could have a function that is computed as f(n) and another that is g(n^2). All things around the function staying constant, the only thing that changes is the size of the input. Below is the chart that shows the different Asymptotic analysis formats. "
   ]
  },
  {
   "cell_type": "markdown",
   "metadata": {},
   "source": []
  },
  {
   "cell_type": "markdown",
   "metadata": {},
   "source": []
  },
  {
   "cell_type": "markdown",
   "metadata": {},
   "source": []
  },
  {
   "cell_type": "markdown",
   "metadata": {},
   "source": [
    "<table style=\"text-align:center;\" class=\"table table-bordered\">\n",
    "<tbody><tr>\n",
    "<td>constant</td>\n",
    "<td>−</td>\n",
    "<td>Ο(1)</td>\n",
    "</tr>\n",
    "<tr>\n",
    "<td>logarithmic</td>\n",
    "<td>−</td>\n",
    "<td>Ο(log n)</td>\n",
    "</tr>\n",
    "<tr>\n",
    "<td>linear</td>\n",
    "<td>−</td>\n",
    "<td>Ο(n)</td>\n",
    "</tr>\n",
    "<tr>\n",
    "<td>Linear Logarithmic</td>\n",
    "<td>−</td>\n",
    "<td>Ο(n log n)</td>\n",
    "</tr>\n",
    "<tr>\n",
    "<td>quadratic</td>\n",
    "<td>−</td>\n",
    "<td>Ο(n<sup>2</sup>)</td>\n",
    "</tr>\n",
    "<tr>\n",
    "<td>cubic</td>\n",
    "<td>−</td>\n",
    "<td>Ο(n<sup>3</sup>)</td>\n",
    "</tr>\n",
    "<tr>\n",
    "<td>polynomial</td>\n",
    "<td>−</td>\n",
    "<td>n<sup>Ο(1)</sup></td>\n",
    "</tr>\n",
    "<tr>\n",
    "<td>exponential</td>\n",
    "<td>−</td>\n",
    "<td>2<sup>Ο(n)</sup></td>\n",
    "</tr>\n",
    "</tbody></table>"
   ]
  },
  {
   "cell_type": "code",
   "execution_count": null,
   "metadata": {},
   "outputs": [],
   "source": [
    "#time complexity is calculated on the worst case scenario of your funciton\n",
    "\n",
    "nums = [1,2,3,4,5]\n",
    "\n",
    "for num in nums:\n",
    "    if num == 5:\n",
    "        return(1)\n",
    "\n",
    "#Constant 0(1)\n",
    "x = 2\n",
    "y = 2+ 2\n",
    "\n",
    "alist = [1,2,3]\n",
    "astring = 'string'\n",
    "alist[1]\n",
    "astring[0]\n",
    "\n",
    "#membership check of a dictionary is constant 0(1)\n",
    "\n",
    "adict = {\n",
    "        'a':1,\n",
    "        'b':2,\n",
    "        'c':3\n",
    "}\n",
    "\n",
    "if 'a' in adict:\n",
    "    print(adict['a'])"
   ]
  },
  {
   "cell_type": "code",
   "execution_count": null,
   "metadata": {},
   "outputs": [],
   "source": [
    "#Logrithmic 0(log n)\n",
    "#Binary Search"
   ]
  },
  {
   "cell_type": "code",
   "execution_count": 2,
   "metadata": {},
   "outputs": [
    {
     "name": "stdout",
     "output_type": "stream",
     "text": [
      "3\n"
     ]
    }
   ],
   "source": [
    "#Linear - 0(n)\n",
    "\n",
    "def printlist(alist):\n",
    "    for ele in alist:\n",
    "        print(ele)\n",
    "    count = 0\n",
    "    for ele in alist:\n",
    "        count += 1\n",
    "\n",
    "# printlist([1,2,3,4,5,6,7,8])\n",
    "\n",
    "nums = [1,2,3,4,5,6,7,8,1,1]\n",
    "\n",
    "print(nums.count(1))"
   ]
  },
  {
   "cell_type": "code",
   "execution_count": null,
   "metadata": {},
   "outputs": [],
   "source": [
    "#Linear Logrithmic 0(n log n)\n",
    "\n",
    "#.sort()\n",
    "#sorted()\n",
    "#merge sort\n",
    "\n",
    "def reversesort(alist):\n",
    "    alist = sorted(alist[::-1.sort])"
   ]
  },
  {
   "cell_type": "code",
   "execution_count": 4,
   "metadata": {},
   "outputs": [
    {
     "name": "stdout",
     "output_type": "stream",
     "text": [
      "Outside 1\n",
      "Inside 1\n",
      "Inside 2\n",
      "Inside 3\n",
      "Inside 4\n",
      "Inside 5\n",
      "Inside 6\n",
      "Inside 7\n",
      "Inside 8\n",
      "Inside 9\n",
      "Inside 10\n",
      "Outside 2\n",
      "Inside 1\n",
      "Inside 2\n",
      "Inside 3\n",
      "Inside 4\n",
      "Inside 5\n",
      "Inside 6\n",
      "Inside 7\n",
      "Inside 8\n",
      "Inside 9\n",
      "Inside 10\n",
      "Outside 3\n",
      "Inside 1\n",
      "Inside 2\n",
      "Inside 3\n",
      "Inside 4\n",
      "Inside 5\n",
      "Inside 6\n",
      "Inside 7\n",
      "Inside 8\n",
      "Inside 9\n",
      "Inside 10\n",
      "Outside 4\n",
      "Inside 1\n",
      "Inside 2\n",
      "Inside 3\n",
      "Inside 4\n",
      "Inside 5\n",
      "Inside 6\n",
      "Inside 7\n",
      "Inside 8\n",
      "Inside 9\n",
      "Inside 10\n",
      "Outside 5\n",
      "Inside 1\n",
      "Inside 2\n",
      "Inside 3\n",
      "Inside 4\n",
      "Inside 5\n",
      "Inside 6\n",
      "Inside 7\n",
      "Inside 8\n",
      "Inside 9\n",
      "Inside 10\n",
      "Outside 6\n",
      "Inside 1\n",
      "Inside 2\n",
      "Inside 3\n",
      "Inside 4\n",
      "Inside 5\n",
      "Inside 6\n",
      "Inside 7\n",
      "Inside 8\n",
      "Inside 9\n",
      "Inside 10\n",
      "Outside 7\n",
      "Inside 1\n",
      "Inside 2\n",
      "Inside 3\n",
      "Inside 4\n",
      "Inside 5\n",
      "Inside 6\n",
      "Inside 7\n",
      "Inside 8\n",
      "Inside 9\n",
      "Inside 10\n",
      "Outside 8\n",
      "Inside 1\n",
      "Inside 2\n",
      "Inside 3\n",
      "Inside 4\n",
      "Inside 5\n",
      "Inside 6\n",
      "Inside 7\n",
      "Inside 8\n",
      "Inside 9\n",
      "Inside 10\n",
      "Outside 9\n",
      "Inside 1\n",
      "Inside 2\n",
      "Inside 3\n",
      "Inside 4\n",
      "Inside 5\n",
      "Inside 6\n",
      "Inside 7\n",
      "Inside 8\n",
      "Inside 9\n",
      "Inside 10\n",
      "Outside 10\n",
      "Inside 1\n",
      "Inside 2\n",
      "Inside 3\n",
      "Inside 4\n",
      "Inside 5\n",
      "Inside 6\n",
      "Inside 7\n",
      "Inside 8\n",
      "Inside 9\n",
      "Inside 10\n"
     ]
    }
   ],
   "source": [
    "#Quadratic 0(n^2)\n",
    "\n",
    "#nested linear operations\n",
    "\n",
    "def quad(alist):\n",
    "\n",
    "    for num in alist:\n",
    "        print(f'Outside {num}')\n",
    "        for numb in alist:\n",
    "            print(f'Inside {numb}')\n",
    "\n",
    "quad([1,2,3,4,5,6,7,8,9,10])"
   ]
  },
  {
   "cell_type": "markdown",
   "metadata": {},
   "source": [
    "## Arrays"
   ]
  },
  {
   "cell_type": "markdown",
   "metadata": {},
   "source": [
    "In order to measure time and space complexity we use Asymptotic analysis. The reason for this is because we need a way to measure different algorithms (functions) based on the size of their inputs in a mathmatical way. For example, we could have a function that is computed as f(n) and another that is g(n^2). All things around the function staying constant, the only thing that changes is the size of the input. Below is the chart that shows the different Asymptotic analysis formats."
   ]
  },
  {
   "cell_type": "markdown",
   "metadata": {},
   "source": [
    "## Which in python looks like this:"
   ]
  },
  {
   "cell_type": "code",
   "execution_count": 5,
   "metadata": {},
   "outputs": [
    {
     "name": "stdout",
     "output_type": "stream",
     "text": [
      "[1, 2, 3, 4, 5]\n"
     ]
    }
   ],
   "source": [
    "#In python a list is a form of an Array\n",
    "\n",
    "array = [1,2,3,4,5]\n",
    "\n",
    "print(array)"
   ]
  },
  {
   "cell_type": "markdown",
   "metadata": {},
   "source": [
    "### Let's take a look at some of the time and space analysis of arrays"
   ]
  },
  {
   "cell_type": "code",
   "execution_count": 7,
   "metadata": {},
   "outputs": [
    {
     "name": "stdout",
     "output_type": "stream",
     "text": [
      "1\n",
      "0\n",
      "3\n",
      "4\n",
      "5\n",
      "Hooray\n"
     ]
    }
   ],
   "source": [
    "#indexing into an array is O(1)\n",
    "#changing info at a specifed index is constant\n",
    "\n",
    "array = [1,2,3,4,5]\n",
    "\n",
    "array[1]\n",
    "\n",
    "array[1] = 0\n",
    "\n",
    "#parsing through a list (searching) O(n)\n",
    "\n",
    "for num in array:\n",
    "    print(num)\n",
    "\n",
    "#Copying a list is Linear O(n)\n",
    "\n",
    "new_list = array[:]\n",
    "#.copy()\n",
    "\n",
    "#Membership check of a list/array\n",
    "\n",
    "if 1 in array:\n",
    "    print('Hooray')\n",
    "\n",
    "#appending is constant\n",
    "\n",
    "array.append(4)\n",
    "array.insert(4, 1)"
   ]
  },
  {
   "cell_type": "markdown",
   "metadata": {},
   "source": [
    "## Stacks and Queues\n",
    "\n",
    "** Stacks ** as the name suggests is a data structure that allows for data to follow the Last In First Out priciple(LIFO). Think of a stack of pancakes for example. To get the first pancake you would  start with the top and go down.\n",
    "\n",
    "##### Searching through a stack will be Linear Time O(n) - Constant Space O(1)\n",
    "##### Selecting the last item will be done in Constant Time O(1) - Constant Space O(1)\n",
    "##### Adding to the stack should take Constant Time O(1) - Constant Space O(1)\n",
    "\n",
    "** Queues ** are similar but in this case follow the First In First Out principle(FIFO). Think of this as a line in a black friday sale. The first person camped out for the big screen tv is the first to get it.\n",
    "\n",
    "##### Searching through a queue will be Linear Time O(n) - Constant Space O(1)\n",
    "##### Selecting the first item will be done in Constant Time O(1) - Constant Space O(1)\n",
    "##### Adding to the queue should take Constant Time O(1) - Constant Space O(1)"
   ]
  },
  {
   "cell_type": "code",
   "execution_count": 14,
   "metadata": {},
   "outputs": [
    {
     "name": "stdout",
     "output_type": "stream",
     "text": [
      "['pancake 1', 'pancake 2', 'pancake 3']\n",
      "pancake 3\n",
      "['pancake 1', 'pancake 2']\n",
      "['person 1', 'person 2', 'person 3']\n",
      "person 1\n",
      "['person 2', 'person 3']\n",
      "deque(['person 1', 'person 2', 'person 3'])\n",
      "person 1\n",
      "deque(['person 2', 'person 3'])\n"
     ]
    }
   ],
   "source": [
    "#Stack\n",
    "\n",
    "stack = []\n",
    "\n",
    "stack.append('pancake 1')\n",
    "stack.append('pancake 2')\n",
    "stack.append('pancake 3')\n",
    "\n",
    "print(stack)\n",
    "print(stack.pop())\n",
    "print(stack)\n",
    "\n",
    "#Queue\n",
    "\n",
    "queue = []\n",
    "\n",
    "queue.append('person 1')\n",
    "queue.append('person 2')\n",
    "queue.append('person 3')\n",
    "\n",
    "print(queue)\n",
    "print(queue.pop(0))\n",
    "print(queue)\n",
    "\n",
    "from collections import deque\n",
    "\n",
    "q = deque()\n",
    "\n",
    "q.append('person 1')\n",
    "q.append('person 2')\n",
    "q.append('person 3')\n",
    "\n",
    "print(q)\n",
    "print(q.popleft())\n",
    "print(q)"
   ]
  },
  {
   "cell_type": "markdown",
   "metadata": {},
   "source": [
    "## Linked List (Data Structure)\n",
    "\n",
    "A linked list is created by using the node class. We create a Node object and create another class to use this node object. We pass the appropriate values thorugh the node object to point the to the next data elements.\n",
    "\n",
    "There are some advantages and disadvantages with this data structure. **Advantages** Linked Lists can save memory because they can be flexibile with memory management which saves memory. **Disadvantages** Finding or adding to the list requires traversing the entire list."
   ]
  },
  {
   "cell_type": "code",
   "execution_count": 21,
   "metadata": {},
   "outputs": [
    {
     "name": "stdout",
     "output_type": "stream",
     "text": [
      "Blue\n"
     ]
    }
   ],
   "source": [
    "class Node():\n",
    "    def __init__(self, value):\n",
    "        self.value = value\n",
    "        self.next = None\n",
    "\n",
    "red = Node('Red')\n",
    "green = Node('Green')\n",
    "blue = Node('Blue')\n",
    "\n",
    "red.next = green\n",
    "green.next = blue\n",
    "\n",
    "print(red.next.next.value)"
   ]
  },
  {
   "cell_type": "code",
   "execution_count": 28,
   "metadata": {},
   "outputs": [
    {
     "name": "stdout",
     "output_type": "stream",
     "text": [
      "Purple\n",
      "Red\n",
      "Green\n"
     ]
    }
   ],
   "source": [
    "class Node():\n",
    "    def __init__(self, value):\n",
    "        self.value = value\n",
    "        self.next = None\n",
    "\n",
    "class LinkedList():\n",
    "    def __init__(self):\n",
    "        self.head = None\n",
    "\n",
    "    def append(self, new_value):\n",
    "    \n",
    "        new_node = Node(new_value)\n",
    "\n",
    "        if self.head == None:\n",
    "            self.head = new_node\n",
    "            return\n",
    "        \n",
    "        last = self.head\n",
    "\n",
    "        while last.next != None:\n",
    "            last = last.next\n",
    "\n",
    "        last.next = new_node\n",
    "        \n",
    "        return\n",
    "    \n",
    "    def prepend(self, new_value):\n",
    "        new_node = Node(new_value)\n",
    "\n",
    "        if self.head == None:\n",
    "            self.head = new_node\n",
    "            return\n",
    "        \n",
    "        new_node.next = self.head\n",
    "        self.head = new_node\n",
    "    \n",
    "    def traverse(self):\n",
    "\n",
    "        current = self.head\n",
    "\n",
    "        while current.next != None:\n",
    "            print(current.value)\n",
    "            current = current.next\n",
    "\n",
    "LL = LinkedList()\n",
    "\n",
    "LL.append('Red')\n",
    "LL.append('Green')\n",
    "LL.append('Blue')\n",
    "LL.prepend('Purple')\n",
    "\n",
    "LL.traverse()"
   ]
  },
  {
   "cell_type": "code",
   "execution_count": null,
   "metadata": {},
   "outputs": [],
   "source": [
    "#Project Notes\n",
    "\n",
    "\n",
    "#Collecting things like monthly income/expeses\n",
    "#Collected from user and used to calculate an ROI\n",
    "\n",
    "#HINTS- while loop\n",
    "#Stricly OOP"
   ]
  }
 ],
 "metadata": {
  "kernelspec": {
   "display_name": "Python 3 (ipykernel)",
   "language": "python",
   "name": "python3"
  },
  "language_info": {
   "codemirror_mode": {
    "name": "ipython",
    "version": 3
   },
   "file_extension": ".py",
   "mimetype": "text/x-python",
   "name": "python",
   "nbconvert_exporter": "python",
   "pygments_lexer": "ipython3",
   "version": "3.11.4"
  }
 },
 "nbformat": 4,
 "nbformat_minor": 2
}
